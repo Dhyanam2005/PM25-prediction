{
 "cells": [
  {
   "cell_type": "code",
   "execution_count": null,
   "id": "2ec49ea1-fb9e-4ee5-8c4e-835b41e5a598",
   "metadata": {},
   "outputs": [],
   "source": [
    "import pandas as pd\n",
    "import numpy as np\n",
    "\n",
    "df = pd.read_csv('./stations_day_dataset.csv')\n",
    "df.head()\n",
    "df.isnull().sum().sort_values(ascending=False)"
   ]
  },
  {
   "cell_type": "code",
   "execution_count": null,
   "id": "c8073b6f-cddc-4ae7-9562-1d90c3b9cd4e",
   "metadata": {},
   "outputs": [],
   "source": [
    "import numpy as np\n",
    "import pandas as pd\n",
    "\n",
    "def impute_strategy(df):\n",
    "    result = []\n",
    "    for station_id,group in df.groupby('StationId'):\n",
    "        numeric_columns = group.select_dtypes(include='number').columns\n",
    "        row_count = len(group)\n",
    "        for col in numeric_columns:\n",
    "            null_count = group[col].isnull().sum()\n",
    "            null_pct = null_count / row_count\n",
    "            if null_count == row_count:\n",
    "                skew = np.nan\n",
    "            else:\n",
    "                skew = group[col].dropna().skew()\n",
    "            result.append({\n",
    "                'StationId': station_id,\n",
    "                'Column': col,\n",
    "                'Nulls': null_count,\n",
    "                'TotalRows': row_count,\n",
    "                'NullPct': null_pct,\n",
    "                'Skew': skew\n",
    "            })\n",
    "    return pd.DataFrame(result)\n",
    "summary_df = impute_strategy(df)"
   ]
  },
  {
   "cell_type": "code",
   "execution_count": null,
   "id": "90beb89d-f34b-4c78-9eb7-60d432cf24f0",
   "metadata": {},
   "outputs": [],
   "source": [
    "import pandas as pd\n",
    "import numpy as np\n",
    "\n",
    "def impute_values_station_wise(df):\n",
    "    for station_id,group in df.groupby('StationId'):\n",
    "        numeric_columns = group.select_dtypes(include='number').columns\n",
    "        row_count = len(group)\n",
    "        for col in numeric_columns:\n",
    "            null_count_col = group[col].isnull().sum()\n",
    "            null_pct =  null_count_col/row_count\n",
    "            \n",
    "            if null_pct <= 0.5:\n",
    "                skew_value = group[col].dropna().skew()\n",
    "                if skew_value > 0.5 or skew_value < -0.5:\n",
    "                    df.loc[group.index,col] = group[col].fillna(group[col].median())\n",
    "                else:\n",
    "                    df.loc[group.index,col] = group[col].fillna(group[col].mean())\n",
    "impute_values_station_wise(df)\n",
    "df.isnull().sum().sort_values(ascending=False)"
   ]
  },
  {
   "cell_type": "code",
   "execution_count": null,
   "id": "6d394ee1-51e3-482f-ad78-1ca084867426",
   "metadata": {},
   "outputs": [],
   "source": [
    "import pandas as pd\n",
    "import numpy as np\n",
    "\n",
    "def impute_values_city_wise(df):\n",
    "    for City,group in df.groupby('City'):\n",
    "        numeric_columns = group.select_dtypes(include='number').columns\n",
    "        row_count = len(group)\n",
    "        for col in numeric_columns:\n",
    "            null_count_col = group[col].isnull().sum()\n",
    "            null_pct =  null_count_col/row_count\n",
    "            \n",
    "            if null_pct <= 0.5:\n",
    "                skew_value = group[col].dropna().skew()\n",
    "                if skew_value > 0.5 or skew_value < -0.5:\n",
    "                    df.loc[group.index,col] = group[col].fillna(group[col].median())\n",
    "                else:\n",
    "                    df.loc[group.index,col] = group[col].fillna(group[col].mean())\n",
    "impute_values_city_wise(df)\n",
    "df.isnull().sum().sort_values(ascending=False)"
   ]
  },
  {
   "cell_type": "code",
   "execution_count": null,
   "id": "550f03c8-0026-4cfb-b19f-5b9d9a01cc88",
   "metadata": {},
   "outputs": [],
   "source": [
    "import pandas as pd\n",
    "import numpy as np\n",
    "\n",
    "def impute_values_state_wise(df):\n",
    "    for state,group in df.groupby('State'):\n",
    "        numeric_columns = group.select_dtypes(include='number').columns\n",
    "        row_count = len(group)\n",
    "        for col in numeric_columns:\n",
    "            null_count_col = group[col].isnull().sum()\n",
    "            null_pct =  null_count_col/row_count\n",
    "            \n",
    "            if null_pct <= 0.5:\n",
    "                skew_value = group[col].dropna().skew()\n",
    "                if skew_value > 0.5 or skew_value < -0.5:\n",
    "                    df.loc[group.index,col] = group[col].fillna(group[col].median())\n",
    "                else:\n",
    "                    df.loc[group.index,col] = group[col].fillna(group[col].mean())\n",
    "impute_values_state_wise(df)\n",
    "df.isnull().sum().sort_values(ascending=False)"
   ]
  },
  {
   "cell_type": "code",
   "execution_count": null,
   "id": "b9f1ddfc-4c76-45ff-b613-ae036d1d3d8f",
   "metadata": {},
   "outputs": [],
   "source": [
    "## Impute remanining values with rest of median or mean based on skew value\n",
    "\n",
    "numeric_columns = df.select_dtypes(include='number').columns\n",
    "\n",
    "for col in numeric_columns:\n",
    "    skew = df[col].dropna().skew()\n",
    "    if skew > 0.5 or skew < -0.5:\n",
    "        df[col] = df[col].fillna(df[col].median())\n",
    "    else:\n",
    "        df[col] = df[col].fillna(df[col].mean())\n",
    "df.isnull().sum().sort_values(ascending=False)"
   ]
  },
  {
   "cell_type": "code",
   "execution_count": 9,
   "id": "3b1aca72-ed3d-4208-aaec-11665e0fb245",
   "metadata": {},
   "outputs": [
    {
     "data": {
      "text/plain": [
       "AQI_Bucket              2873\n",
       "Unnamed: 0                 0\n",
       "relative_humidity_2m       0\n",
       "temperature_2m             0\n",
       "industry_distance          0\n",
       "river_distance             0\n",
       "road_distance              0\n",
       "longitude                  0\n",
       "latitude                   0\n",
       "location                   0\n",
       "FullAddress                0\n",
       "State                      0\n",
       "City                       0\n",
       "StationName                0\n",
       "AQI                        0\n",
       "StationId                  0\n",
       "Toluene                    0\n",
       "Benzene                    0\n",
       "O3                         0\n",
       "SO2                        0\n",
       "CO                         0\n",
       "NH3                        0\n",
       "NOx                        0\n",
       "NO2                        0\n",
       "NO                         0\n",
       "PM10                       0\n",
       "PM2.5                      0\n",
       "Date                       0\n",
       "windspeed_10m              0\n",
       "dtype: int64"
      ]
     },
     "execution_count": 9,
     "metadata": {},
     "output_type": "execute_result"
    }
   ],
   "source": [
    "df.drop(columns=['AQI','AQI_Bucket','Unnamed: 0],inplace\n",
    "df.isnull().sum().sort_values(ascending=False)"
   ]
  }
 ],
 "metadata": {
  "kernelspec": {
   "display_name": "Python 3 (ipykernel)",
   "language": "python",
   "name": "python3"
  },
  "language_info": {
   "codemirror_mode": {
    "name": "ipython",
    "version": 3
   },
   "file_extension": ".py",
   "mimetype": "text/x-python",
   "name": "python",
   "nbconvert_exporter": "python",
   "pygments_lexer": "ipython3",
   "version": "3.12.7"
  }
 },
 "nbformat": 4,
 "nbformat_minor": 5
}
