{
 "cells": [
  {
   "cell_type": "code",
   "execution_count": 52,
   "id": "0810beb6-b76a-4632-aca3-1593db3e00a8",
   "metadata": {},
   "outputs": [
    {
     "name": "stdout",
     "output_type": "stream",
     "text": [
      "(108035, 16)\n"
     ]
    }
   ],
   "source": [
    "import pandas as pd\n",
    "import numpy as np\n",
    "\n",
    "stations_day_df = pd.read_csv('data/station_day.csv')\n",
    "stations_df = pd.read_csv('data/station_road_river_factory.csv')\n",
    "stations_day_df = stations_day_df[(stations_day_df[\"StationId\"] != \"RJ003\") & (stations_day_df[\"StationId\"] != \"UP021\")]\n",
    "print(stations_day_df.shape)"
   ]
  },
  {
   "cell_type": "code",
   "execution_count": 56,
   "id": "7fb6a85c-6f07-4e89-bead-dc82b198221e",
   "metadata": {},
   "outputs": [
    {
     "data": {
      "text/plain": [
       "(86410, 15)"
      ]
     },
     "execution_count": 56,
     "metadata": {},
     "output_type": "execute_result"
    }
   ],
   "source": [
    "stations_day_df = stations_day_df.dropna(subset=['PM2.5'])\n",
    "stations_day_df = stations_day_df.drop(columns=['Xylene'])\n",
    "stations_day_df.isnull().sum().sort_values(ascending=False)\n",
    "stations_day_df.shape"
   ]
  },
  {
   "cell_type": "code",
   "execution_count": 65,
   "id": "e05e02e5-6dac-48b0-9be0-27691fde4f59",
   "metadata": {},
   "outputs": [
    {
     "data": {
      "text/plain": [
       "NH3                  28310\n",
       "PM10                 24885\n",
       "Toluene              24126\n",
       "Benzene              17514\n",
       "SO2                   9562\n",
       "O3                    7640\n",
       "NOx                   3752\n",
       "CO                    2950\n",
       "AQI                   2873\n",
       "AQI_Bucket            2873\n",
       "NO                    2074\n",
       "NO2                   1402\n",
       "FullAddress              0\n",
       "river_distance           0\n",
       "road_distance            0\n",
       "longitude                0\n",
       "latitude                 0\n",
       "location                 0\n",
       "StationId                0\n",
       "State                    0\n",
       "City                     0\n",
       "StationName              0\n",
       "Date                     0\n",
       "PM2.5                    0\n",
       "industry_distance        0\n",
       "dtype: int64"
      ]
     },
     "execution_count": 65,
     "metadata": {},
     "output_type": "execute_result"
    }
   ],
   "source": [
    "combined_df = pd.merge(stations_day_df,stations_df,on=\"StationId\",how=\"left\")\n",
    "combined_df.isnull().sum().sort_values(ascending=False)"
   ]
  }
 ],
 "metadata": {
  "kernelspec": {
   "display_name": "Python 3 (ipykernel)",
   "language": "python",
   "name": "python3"
  },
  "language_info": {
   "codemirror_mode": {
    "name": "ipython",
    "version": 3
   },
   "file_extension": ".py",
   "mimetype": "text/x-python",
   "name": "python",
   "nbconvert_exporter": "python",
   "pygments_lexer": "ipython3",
   "version": "3.12.7"
  }
 },
 "nbformat": 4,
 "nbformat_minor": 5
}
