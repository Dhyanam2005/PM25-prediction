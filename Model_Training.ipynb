{
 "cells": [
  {
   "cell_type": "code",
   "execution_count": 4,
   "id": "de3214c9-d274-47d4-831a-e68bbc68cb61",
   "metadata": {},
   "outputs": [
    {
     "data": {
      "text/plain": [
       "Index(['Unnamed: 0', 'PM2.5', 'PM10', 'NO', 'NO2', 'NOx', 'NH3', 'CO', 'SO2',\n",
       "       'O3', 'Benzene', 'Toluene', 'road_distance', 'river_distance',\n",
       "       'industry_distance', 'temperature_2m', 'relative_humidity_2m',\n",
       "       'windspeed_10m', 'City_Aizawl', 'City_Amaravati', 'City_Amritsar',\n",
       "       'City_Bengaluru', 'City_Bhopal', 'City_Brajrajnagar', 'City_Chandigarh',\n",
       "       'City_Chennai', 'City_Coimbatore', 'City_Delhi', 'City_Ernakulam',\n",
       "       'City_Gurugram', 'City_Guwahati', 'City_Hyderabad', 'City_Jaipur',\n",
       "       'City_Jorapokhar', 'City_Kochi', 'City_Kolkata', 'City_Lucknow',\n",
       "       'City_Mumbai', 'City_Patna', 'City_Shillong', 'City_Talcher',\n",
       "       'City_Thiruvananthapuram', 'City_Visakhapatnam', 'State_Assam',\n",
       "       'State_Bihar', 'State_Chandigarh', 'State_Delhi', 'State_Gujarat',\n",
       "       'State_Haryana', 'State_Jharkhand', 'State_Karnataka', 'State_Kerala',\n",
       "       'State_Madhya Pradesh', 'State_Maharashtra', 'State_Meghalaya',\n",
       "       'State_Mizoram', 'State_Odisha', 'State_Punjab', 'State_Rajasthan',\n",
       "       'State_Tamil Nadu', 'State_Telangana', 'State_Uttar Pradesh',\n",
       "       'State_West Bengal'],\n",
       "      dtype='object')"
      ]
     },
     "execution_count": 4,
     "metadata": {},
     "output_type": "execute_result"
    }
   ],
   "source": [
    "import pandas as pd\n",
    "import numpy as np\n",
    "\n",
    "df = pd.read_csv('./stations_encoded.csv')\n",
    "df.columns"
   ]
  },
  {
   "cell_type": "code",
   "execution_count": 8,
   "id": "fa301a42-77b6-48cf-a19c-7d8af334355f",
   "metadata": {},
   "outputs": [
    {
     "name": "stdout",
     "output_type": "stream",
     "text": [
      "R² Score: 0.6641\n",
      "RMSE: 43.6687\n",
      "MAE: 26.0416\n",
      "PM2.5 mean: 80.27257134590903\n",
      "PM2.5 std deviation: 76.52640253793663\n"
     ]
    }
   ],
   "source": [
    "import pandas as pd\n",
    "import numpy as np\n",
    "from sklearn.linear_model import LinearRegression\n",
    "from sklearn.model_selection import train_test_split\n",
    "from sklearn.metrics import r2_score, mean_squared_error, mean_absolute_error\n",
    "X = df.drop(columns=['PM2.5'])\n",
    "y = df['PM2.5']\n",
    "\n",
    "X_train, X_test, y_train, y_test = train_test_split(X, y, test_size=0.2, random_state=42)\n",
    "\n",
    "model = LinearRegression()\n",
    "model.fit(X_train, y_train)\n",
    "\n",
    "y_pred = model.predict(X_test)\n",
    "\n",
    "r2 = r2_score(y_test, y_pred)\n",
    "rmse = np.sqrt(mean_squared_error(y_test, y_pred))\n",
    "mae = mean_absolute_error(y_test, y_pred)\n",
    "\n",
    "print(f\"R² Score: {r2:.4f}\")\n",
    "print(f\"RMSE: {rmse:.4f}\")\n",
    "print(f\"MAE: {mae:.4f}\")\n",
    "print(\"PM2.5 mean:\", df['PM2.5'].mean())\n",
    "print(\"PM2.5 std deviation:\", df['PM2.5'].std())\n"
   ]
  }
 ],
 "metadata": {
  "kernelspec": {
   "display_name": "Python 3 (ipykernel)",
   "language": "python",
   "name": "python3"
  },
  "language_info": {
   "codemirror_mode": {
    "name": "ipython",
    "version": 3
   },
   "file_extension": ".py",
   "mimetype": "text/x-python",
   "name": "python",
   "nbconvert_exporter": "python",
   "pygments_lexer": "ipython3",
   "version": "3.12.7"
  }
 },
 "nbformat": 4,
 "nbformat_minor": 5
}
