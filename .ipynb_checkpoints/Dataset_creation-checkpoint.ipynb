{
 "cells": [
  {
   "cell_type": "code",
   "execution_count": null,
   "id": "2ec49ea1-fb9e-4ee5-8c4e-835b41e5a598",
   "metadata": {},
   "outputs": [],
   "source": [
    "import pandas as pd\n",
    "import numpy as np\n",
    "\n",
    "df = pd.read_csv('./stations_day_dataset.csv')\n",
    "df.head()\n",
    "df.isnull().sum().sort_values(ascending=False)"
   ]
  },
  {
   "cell_type": "code",
   "execution_count": null,
   "id": "c8073b6f-cddc-4ae7-9562-1d90c3b9cd4e",
   "metadata": {},
   "outputs": [],
   "source": [
    "import numpy as np\n",
    "import pandas as pd\n",
    "\n",
    "def impute_strategy(df):\n",
    "    result = []\n",
    "    for station_id,group in df.groupby('StationId'):\n",
    "        numeric_columns = group.select_dtypes(include='number').columns\n",
    "        row_count = len(group)\n",
    "        for col in numeric_columns:\n",
    "            null_count = group[col].isnull().sum()\n",
    "            null_pct = null_count / row_count\n",
    "            if null_count == row_count:\n",
    "                skew = np.nan\n",
    "            else:\n",
    "                skew = group[col].dropna().skew()\n",
    "            result.append({\n",
    "                'StationId': station_id,\n",
    "                'Column': col,\n",
    "                'Nulls': null_count,\n",
    "                'TotalRows': row_count,\n",
    "                'NullPct': null_pct,\n",
    "                'Skew': skew\n",
    "            })\n",
    "    return pd.DataFrame(result)\n",
    "summary_df = impute_strategy(df)"
   ]
  },
  {
   "cell_type": "code",
   "execution_count": null,
   "id": "90beb89d-f34b-4c78-9eb7-60d432cf24f0",
   "metadata": {},
   "outputs": [],
   "source": [
    "import pandas as pd\n",
    "import numpy as np\n",
    "\n",
    "def impute_values_station_wise(df):\n",
    "    for station_id,group in df.groupby('StationId'):\n",
    "        numeric_columns = group.select_dtypes(include='number').columns\n",
    "        row_count = len(group)\n",
    "        for col in numeric_columns:\n",
    "            null_count_col = group[col].isnull().sum()\n",
    "            null_pct =  null_count_col/row_count\n",
    "            \n",
    "            if null_pct <= 0.5:\n",
    "                skew_value = group[col].dropna().skew()\n",
    "                if skew_value > 0.5 or skew_value < -0.5:\n",
    "                    df.loc[group.index,col] = group[col].fillna(group[col].median())\n",
    "                else:\n",
    "                    df.loc[group.index,col] = group[col].fillna(group[col].mean())\n",
    "impute_values_station_wise(df)\n",
    "df.isnull().sum().sort_values(ascending=False)"
   ]
  },
  {
   "cell_type": "code",
   "execution_count": null,
   "id": "6d394ee1-51e3-482f-ad78-1ca084867426",
   "metadata": {},
   "outputs": [],
   "source": [
    "import pandas as pd\n",
    "import numpy as np\n",
    "\n",
    "def impute_values_city_wise(df):\n",
    "    for City,group in df.groupby('City'):\n",
    "        numeric_columns = group.select_dtypes(include='number').columns\n",
    "        row_count = len(group)\n",
    "        for col in numeric_columns:\n",
    "            null_count_col = group[col].isnull().sum()\n",
    "            null_pct =  null_count_col/row_count\n",
    "            \n",
    "            if null_pct <= 0.5:\n",
    "                skew_value = group[col].dropna().skew()\n",
    "                if skew_value > 0.5 or skew_value < -0.5:\n",
    "                    df.loc[group.index,col] = group[col].fillna(group[col].median())\n",
    "                else:\n",
    "                    df.loc[group.index,col] = group[col].fillna(group[col].mean())\n",
    "impute_values_city_wise(df)\n",
    "df.isnull().sum().sort_values(ascending=False)"
   ]
  },
  {
   "cell_type": "code",
   "execution_count": null,
   "id": "550f03c8-0026-4cfb-b19f-5b9d9a01cc88",
   "metadata": {},
   "outputs": [],
   "source": [
    "import pandas as pd\n",
    "import numpy as np\n",
    "\n",
    "def impute_values_state_wise(df):\n",
    "    for state,group in df.groupby('State'):\n",
    "        numeric_columns = group.select_dtypes(include='number').columns\n",
    "        row_count = len(group)\n",
    "        for col in numeric_columns:\n",
    "            null_count_col = group[col].isnull().sum()\n",
    "            null_pct =  null_count_col/row_count\n",
    "            \n",
    "            if null_pct <= 0.5:\n",
    "                skew_value = group[col].dropna().skew()\n",
    "                if skew_value > 0.5 or skew_value < -0.5:\n",
    "                    df.loc[group.index,col] = group[col].fillna(group[col].median())\n",
    "                else:\n",
    "                    df.loc[group.index,col] = group[col].fillna(group[col].mean())\n",
    "impute_values_state_wise(df)\n",
    "df.isnull().sum().sort_values(ascending=False)"
   ]
  },
  {
   "cell_type": "code",
   "execution_count": null,
   "id": "b9f1ddfc-4c76-45ff-b613-ae036d1d3d8f",
   "metadata": {},
   "outputs": [],
   "source": [
    "## Impute remanining values with rest of median or mean based on skew value\n",
    "\n",
    "numeric_columns = df.select_dtypes(include='number').columns\n",
    "\n",
    "for col in numeric_columns:\n",
    "    skew = df[col].dropna().skew()\n",
    "    if skew > 0.5 or skew < -0.5:\n",
    "        df[col] = df[col].fillna(df[col].median())\n",
    "    else:\n",
    "        df[col] = df[col].fillna(df[col].mean())\n",
    "df.isnull().sum().sort_values(ascending=False)\n",
    "df.to_csv('./stations_cleaned.csv')\n",
    "df.columns"
   ]
  },
  {
   "cell_type": "code",
   "execution_count": null,
   "id": "f1c9566e-ee91-4881-a12c-210091ca097a",
   "metadata": {},
   "outputs": [],
   "source": [
    "df['Month'] = pd.to_datetime(df['Date']).dt.month\n",
    "monthly_average_pm = df.groupby(['Month'])['PM2.5'].mean().reset_index()\n",
    "monthly_average_pm.columns = ['Month', 'Avg_PM2.5']\n",
    "monthly_average_pm.sort_values(by='Avg_PM2.5', ascending=False)\n",
    "def get_season(month):\n",
    "    if month in [10,11,12,1,2]:\n",
    "        return \"Winter\"\n",
    "    if month in [3,4,5]:\n",
    "        return \"Summer\"\n",
    "    if month in [6,7,8,9]:\n",
    "        return \"Rainy\"\n",
    "df['Season'] = df['Month'].apply(get_season)\n",
    "df.columns"
   ]
  },
  {
   "cell_type": "code",
   "execution_count": null,
   "id": "1aa23ac7-e6f2-40de-af50-7da9100a99bd",
   "metadata": {},
   "outputs": [],
   "source": [
    "import matplotlib.pyplot as plt\n",
    "import seaborn as sns\n",
    "\n",
    "plt.figure(figsize=(12,5))\n",
    "sns.histplot(data=df,x='PM2.5',bins=50)\n",
    "plt.show()"
   ]
  },
  {
   "cell_type": "code",
   "execution_count": null,
   "id": "82a277fd-cd68-44e1-92ff-2ec90e293289",
   "metadata": {},
   "outputs": [],
   "source": [
    "plt.figure(figsize=(12,5))\n",
    "monthly_avg_pm = df.groupby('Month')['PM2.5'].mean().reset_index()\n",
    "print(monthly_avg_pm)\n",
    "sns.barplot(data=monthly_avg_pm,x='Month',y='PM2.5')\n",
    "plt.show()"
   ]
  },
  {
   "cell_type": "code",
   "execution_count": null,
   "id": "a9895823-76c2-4ed3-8514-477d9bd18b13",
   "metadata": {},
   "outputs": [],
   "source": [
    "plt.figure(figsize=(12,5))\n",
    "season_avg_pm = df.groupby('Season')['PM2.5'].mean().reset_index()\n",
    "print(season_avg_pm)\n",
    "sns.barplot(data=season_avg_pm,x='Season',y='PM2.5')\n",
    "plt.show()"
   ]
  },
  {
   "cell_type": "code",
   "execution_count": null,
   "id": "1f63c28c-4cfd-4a6e-842a-a7e4e737805a",
   "metadata": {},
   "outputs": [],
   "source": [
    "df['Day'] = pd.to_datetime(df['Date']).dt.dayofweek\n",
    "daily_avg_pm = df.groupby('Day')['PM2.5'].mean().reset_index()\n",
    "plt.figure(figsize=(12,6))\n",
    "sns.barplot(data=daily_avg_pm,x='Day',y='PM2.5')"
   ]
  },
  {
   "cell_type": "code",
   "execution_count": null,
   "id": "69309424-841d-4c10-8b75-37c5439c8a7f",
   "metadata": {},
   "outputs": [],
   "source": [
    "plt.figure(figsize=(12,6))\n",
    "sns.scatterplot(data=df,x='temperature_2m',y='PM2.5')\n",
    "plt.show()"
   ]
  },
  {
   "cell_type": "code",
   "execution_count": null,
   "id": "6e253ec5-4674-404c-bc18-5b5f6664e31b",
   "metadata": {},
   "outputs": [],
   "source": [
    "from scipy.stats import zscore\n",
    "\n",
    "df['PM2.5_zscore'] = zscore(df['PM2.5'])\n",
    "df['PM2.5_outlier_flag'] = df['PM2.5_zscore'].abs() > 3\n",
    "(df['PM2.5_outlier_flag'] == True).sum()"
   ]
  },
  {
   "cell_type": "code",
   "execution_count": null,
   "id": "14aaf11e-89ce-4b98-99d9-11daf931d3f2",
   "metadata": {},
   "outputs": [],
   "source": [
    "df.columns\n",
    "plt.figure(figsize=(13,9))\n",
    "correlation_data = df[['PM2.5', 'PM10', 'SO2', 'NO2',\n",
    "                         'CO', 'O3', 'temperature_2m', 'relative_humidity_2m',\n",
    "                         'windspeed_10m', 'NO', 'NOx','NH3','Benzene','Toluene']]\n",
    "sns.heatmap(correlation_data.corr(),cmap=plt.cm.Reds,annot=True)\n",
    "plt.title('Heatmap displaying the correlation matrix of the variables',fontsize=16)\n",
    "plt.show()"
   ]
  },
  {
   "cell_type": "code",
   "execution_count": null,
   "id": "3c01d5fd-3cf4-46b2-8248-7065b2473715",
   "metadata": {},
   "outputs": [],
   "source": [
    "df['PM2.5_outlier_flag'] = df['PM2.5_outlier_flag'].astype(int)"
   ]
  },
  {
   "cell_type": "code",
   "execution_count": null,
   "id": "3b1aca72-ed3d-4208-aaec-11665e0fb245",
   "metadata": {},
   "outputs": [],
   "source": [
    "df.drop(columns=['AQI','AQI_Bucket','Unnamed: 0','FullAddress','StationName','FullAddress','StationId','location','longitude','latitude','Month','Date','State','PM2.5_flagged','Day','PM2.5_zscore'],inplace=True,errors='ignore')\n",
    "df.columns"
   ]
  },
  {
   "cell_type": "code",
   "execution_count": null,
   "id": "3c008e3c-d3a4-4b03-8384-0a2946f3e1c9",
   "metadata": {},
   "outputs": [],
   "source": [
    "df_encoded = pd.get_dummies(df,columns=['City','Season'],drop_first=True)\n",
    "df_encoded['PM2.5_outlier_flag'].head(1)"
   ]
  },
  {
   "cell_type": "code",
   "execution_count": null,
   "id": "e93298ea-2161-4826-b5e2-045c3e936d8c",
   "metadata": {},
   "outputs": [],
   "source": [
    "# df_encoded.to_csv('./stations_encoded.csv',index=False)\n",
    "# df_encoded"
   ]
  },
  {
   "cell_type": "markdown",
   "id": "ada04782-70af-4c9b-81bb-23c8ee04fb0f",
   "metadata": {},
   "source": [
    "# Model Training and Evaluation"
   ]
  },
  {
   "cell_type": "code",
   "execution_count": 29,
   "id": "327f2c47-5c22-457d-a6ec-b2a777bf84bb",
   "metadata": {},
   "outputs": [
    {
     "data": {
      "text/plain": [
       "Index(['PM2.5', 'PM10', 'NO', 'NO2', 'NOx', 'NH3', 'CO', 'SO2', 'O3',\n",
       "       'Benzene', 'Toluene', 'road_distance', 'river_distance',\n",
       "       'industry_distance', 'temperature_2m', 'relative_humidity_2m',\n",
       "       'windspeed_10m', 'PM2.5_outlier_flag', 'City_Aizawl', 'City_Amaravati',\n",
       "       'City_Amritsar', 'City_Bengaluru', 'City_Bhopal', 'City_Brajrajnagar',\n",
       "       'City_Chandigarh', 'City_Chennai', 'City_Coimbatore', 'City_Delhi',\n",
       "       'City_Ernakulam', 'City_Gurugram', 'City_Guwahati', 'City_Hyderabad',\n",
       "       'City_Jaipur', 'City_Jorapokhar', 'City_Kochi', 'City_Kolkata',\n",
       "       'City_Lucknow', 'City_Mumbai', 'City_Patna', 'City_Shillong',\n",
       "       'City_Talcher', 'City_Thiruvananthapuram', 'City_Visakhapatnam',\n",
       "       'Season_Summer', 'Season_Winter'],\n",
       "      dtype='object')"
      ]
     },
     "execution_count": 29,
     "metadata": {},
     "output_type": "execute_result"
    }
   ],
   "source": [
    "df = df_encoded\n",
    "df.columns"
   ]
  },
  {
   "cell_type": "code",
   "execution_count": 30,
   "id": "5ccd7a37-d0e8-4f04-9c1d-2e1621e20e1c",
   "metadata": {},
   "outputs": [
    {
     "name": "stdout",
     "output_type": "stream",
     "text": [
      "Index(['PM2.5', 'PM10', 'NO', 'NO2', 'NOx', 'NH3', 'CO', 'SO2', 'O3',\n",
      "       'Benzene', 'Toluene', 'road_distance', 'river_distance',\n",
      "       'industry_distance', 'temperature_2m', 'relative_humidity_2m',\n",
      "       'windspeed_10m', 'PM2.5_outlier_flag', 'City_Aizawl', 'City_Amaravati',\n",
      "       'City_Amritsar', 'City_Bengaluru', 'City_Bhopal', 'City_Brajrajnagar',\n",
      "       'City_Chandigarh', 'City_Chennai', 'City_Coimbatore', 'City_Delhi',\n",
      "       'City_Ernakulam', 'City_Gurugram', 'City_Guwahati', 'City_Hyderabad',\n",
      "       'City_Jaipur', 'City_Jorapokhar', 'City_Kochi', 'City_Kolkata',\n",
      "       'City_Lucknow', 'City_Mumbai', 'City_Patna', 'City_Shillong',\n",
      "       'City_Talcher', 'City_Thiruvananthapuram', 'City_Visakhapatnam',\n",
      "       'Season_Summer', 'Season_Winter'],\n",
      "      dtype='object')\n"
     ]
    },
    {
     "data": {
      "image/png": "[encoded data removed]",
      "text/plain": [
       "<Figure size 1200x800 with 2 Axes>"
      ]
     },
     "metadata": {},
     "output_type": "display_data"
    }
   ],
   "source": [
    "import seaborn as sns\n",
    "import matplotlib.pyplot as plt\n",
    "\n",
    "print(df.columns)  \n",
    "numeric_df = df.select_dtypes(include='number')\n",
    "corr_matrix = numeric_df.corr()\n",
    "\n",
    "plt.figure(figsize=(12, 8))\n",
    "sns.heatmap(corr_matrix[['PM2.5']].sort_values(by='PM2.5', ascending=False), \n",
    "            annot=True, cmap='coolwarm', vmin=-1, vmax=1)\n",
    "plt.title('Correlation of Features with PM2.5')\n",
    "plt.show()\n",
    "# df.drop(columns=['road_distance','river_distance','industry_distance'],inplace=True)"
   ]
  },
  {
   "cell_type": "code",
   "execution_count": 31,
   "id": "609c60d0-18ba-47cc-b15d-bef56bc450aa",
   "metadata": {},
   "outputs": [],
   "source": [
    "X = df.drop(columns=['PM2.5'])\n",
    "y = df['PM2.5']"
   ]
  },
  {
   "cell_type": "code",
   "execution_count": 32,
   "id": "e9084279-84b1-4ff1-9d8d-e13708cc23bc",
   "metadata": {},
   "outputs": [
    {
     "name": "stdout",
     "output_type": "stream",
     "text": [
      "0         71.36\n",
      "1         81.40\n",
      "2         78.32\n",
      "3         88.76\n",
      "4         64.18\n",
      "          ...  \n",
      "86405     85.86\n",
      "86406     65.54\n",
      "86407    133.81\n",
      "86408    126.21\n",
      "86409    172.08\n",
      "Name: PM2.5, Length: 86410, dtype: float64\n"
     ]
    }
   ],
   "source": [
    "from sklearn.preprocessing import StandardScaler\n",
    "\n",
    "scaler = StandardScaler()\n",
    "numeric_columns = X.select_dtypes(include='number').columns\n",
    "categorical_columns = X.drop(columns=numeric_columns)\n",
    "scaled_array = scaler.fit_transform(X[numeric_columns])\n",
    "scaled_numeric_X = pd.DataFrame(scaled_array, columns=numeric_columns, index=X.index)\n",
    "df = pd.concat([categorical_columns,scaled_numeric_X],axis=1)\n",
    "print(y)"
   ]
  },
  {
   "cell_type": "code",
   "execution_count": 33,
   "id": "8813579f-f317-44b7-ae29-4545cb34978c",
   "metadata": {},
   "outputs": [
    {
     "name": "stdout",
     "output_type": "stream",
     "text": [
      "R² Score: 0.7707\n",
      "RMSE: 36.0806\n",
      "MAE: 23.2536\n",
      "PM2.5 mean: 80.27257134590903\n",
      "PM2.5 std deviation: 76.52640253793663\n"
     ]
    }
   ],
   "source": [
    "import pandas as pd\n",
    "import numpy as np\n",
    "from sklearn.linear_model import LinearRegression\n",
    "from sklearn.model_selection import train_test_split\n",
    "from sklearn.metrics import r2_score, mean_squared_error, mean_absolute_error\n",
    "\n",
    "X_train, X_test, y_train, y_test = train_test_split(X, y, test_size=0.2, random_state=42)\n",
    "model = LinearRegression()\n",
    "model.fit(X_train,y_train)\n",
    "\n",
    "y_pred = model.predict(X_test)\n",
    "r2 = r2_score(y_test,y_pred)\n",
    "mae = mean_absolute_error(y_test,y_pred)\n",
    "rmse = np.sqrt(mean_squared_error(y_test, y_pred))\n",
    "\n",
    "print(f\"R² Score: {r2:.4f}\")\n",
    "print(f\"RMSE: {rmse:.4f}\")\n",
    "print(f\"MAE: {mae:.4f}\")\n",
    "print(\"PM2.5 mean:\", y.mean())\n",
    "print(\"PM2.5 std deviation:\", y.std())"
   ]
  },
  {
   "cell_type": "code",
   "execution_count": 34,
   "id": "247f97db-22d2-486f-8571-b7516511067d",
   "metadata": {},
   "outputs": [
    {
     "name": "stdout",
     "output_type": "stream",
     "text": [
      "Decision Tree:\n",
      "R² Score: 0.7821644231581789\n",
      "RMSE: 35.166096729173766\n",
      "MAE: 19.689401110982526\n"
     ]
    },
    {
     "name": "stderr",
     "output_type": "stream",
     "text": [
      "C:\\ProgramData\\anaconda3\\Lib\\site-packages\\sklearn\\metrics\\_regression.py:492: FutureWarning: 'squared' is deprecated in version 1.4 and will be removed in 1.6. To calculate the root mean squared error, use the function'root_mean_squared_error'.\n",
      "  warnings.warn(\n"
     ]
    }
   ],
   "source": [
    "from sklearn.tree import DecisionTreeRegressor\n",
    "from sklearn.metrics import mean_squared_error, r2_score, mean_absolute_error\n",
    "\n",
    "dt = DecisionTreeRegressor(random_state=42)\n",
    "dt.fit(X_train,y_train)\n",
    "y_pred_dt = dt.predict(X_test)\n",
    "\n",
    "print(\"Decision Tree:\")\n",
    "print(\"R² Score:\", r2_score(y_test, y_pred_dt))\n",
    "print(\"RMSE:\", mean_squared_error(y_test, y_pred_dt, squared=False))\n",
    "print(\"MAE:\", mean_absolute_error(y_test, y_pred_dt))"
   ]
  },
  {
   "cell_type": "code",
   "execution_count": 40,
   "id": "cf3f9c65-9db5-434f-a1d8-30423892ed88",
   "metadata": {},
   "outputs": [
    {
     "name": "stdout",
     "output_type": "stream",
     "text": [
      "Random Forest:\n",
      "R² Score: 0.8953456309733523\n",
      "RMSE: 24.37465307772071\n",
      "MAE: 13.88852268564906\n"
     ]
    },
    {
     "name": "stderr",
     "output_type": "stream",
     "text": [
      "C:\\ProgramData\\anaconda3\\Lib\\site-packages\\sklearn\\metrics\\_regression.py:492: FutureWarning: 'squared' is deprecated in version 1.4 and will be removed in 1.6. To calculate the root mean squared error, use the function'root_mean_squared_error'.\n",
      "  warnings.warn(\n"
     ]
    }
   ],
   "source": [
    "from sklearn.ensemble import RandomForestRegressor\n",
    "\n",
    "rf = RandomForestRegressor(n_estimators=100, random_state=42,max_depth=30,n_jobs=-1)\n",
    "rf.fit(X_train, y_train)\n",
    "y_pred_rf = rf.predict(X_test)\n",
    "\n",
    "print(\"Random Forest:\")\n",
    "print(\"R² Score:\", r2_score(y_test, y_pred_rf))\n",
    "print(\"RMSE:\", mean_squared_error(y_test, y_pred_rf, squared=False))\n",
    "print(\"MAE:\", mean_absolute_error(y_test, y_pred_rf))\n"
   ]
  },
  {
   "cell_type": "code",
   "execution_count": 47,
   "id": "78868afe-99d5-416d-9d1d-d32c75b9faf5",
   "metadata": {},
   "outputs": [
    {
     "name": "stdout",
     "output_type": "stream",
     "text": [
      "Fitting 3 folds for each of 8 candidates, totalling 24 fits\n",
      "Best Random Forest:\n",
      "Best Parameters: {'max_depth': 30, 'max_features': 'sqrt', 'min_samples_split': 2, 'n_estimators': 200}\n",
      "R² Score: 0.8908874664329027\n",
      "RMSE: 24.88840592278783\n",
      "MAE: 14.241886134604352\n"
     ]
    },
    {
     "name": "stderr",
     "output_type": "stream",
     "text": [
      "C:\\ProgramData\\anaconda3\\Lib\\site-packages\\sklearn\\metrics\\_regression.py:492: FutureWarning: 'squared' is deprecated in version 1.4 and will be removed in 1.6. To calculate the root mean squared error, use the function'root_mean_squared_error'.\n",
      "  warnings.warn(\n"
     ]
    }
   ],
   "source": [
    "from sklearn.ensemble import RandomForestRegressor\n",
    "from sklearn.model_selection import GridSearchCV\n",
    "from sklearn.metrics import r2_score, mean_squared_error, mean_absolute_error\n",
    "\n",
    "\n",
    "rf = RandomForestRegressor(random_state=42, n_jobs=-1)\n",
    "\n",
    "param_grid = {\n",
    "    'n_estimators': [200, 100],\n",
    "    'max_depth': [30, 20],\n",
    "    'min_samples_split': [2, 5],\n",
    "    'max_features': ['sqrt']\n",
    "}\n",
    "\n",
    "grid_search = GridSearchCV(\n",
    "    estimator=rf,\n",
    "    param_grid=param_grid,\n",
    "    cv=3,\n",
    "    scoring='r2',\n",
    "    verbose=2,\n",
    "    n_jobs=-1\n",
    ")\n",
    "\n",
    "grid_search.fit(X_train, y_train)\n",
    "\n",
    "best_rf = grid_search.best_estimator_\n",
    "\n",
    "y_pred_rf_best = best_rf.predict(X_test)\n",
    "\n",
    "print(\"Best Random Forest:\")\n",
    "print(\"Best Parameters:\", grid_search.best_params_)\n",
    "print(\"R² Score:\", r2_score(y_test, y_pred_rf_best))\n",
    "print(\"RMSE:\", mean_squared_error(y_test, y_pred_rf_best, squared=False))\n",
    "print(\"MAE:\", mean_absolute_error(y_test, y_pred_rf_best))\n"
   ]
  },
  {
   "cell_type": "code",
   "execution_count": null,
   "id": "936ca539-49cf-4d35-814f-97c3ca66e3a0",
   "metadata": {},
   "outputs": [
    {
     "name": "stdout",
     "output_type": "stream",
     "text": [
      "Fitting 3 folds for each of 20 candidates, totalling 60 fits\n"
     ]
    }
   ],
   "source": [
    "from sklearn.ensemble import RandomForestRegressor\n",
    "from sklearn.model_selection import RandomizedSearchCV\n",
    "from sklearn.metrics import r2_score, mean_squared_error, mean_absolute_error\n",
    "from scipy.stats import randint\n",
    "\n",
    "param_dist = {\n",
    "    'n_estimators': randint(100, 200),\n",
    "    'max_depth': randint(10, 30),\n",
    "    'min_samples_split': randint(2, 10),\n",
    "    'min_samples_leaf': randint(1, 5),\n",
    "    'max_features': ['auto', 'sqrt', 'log2']\n",
    "}\n",
    "\n",
    "rf = RandomForestRegressor(random_state=42, n_jobs=-1)\n",
    "\n",
    "random_search = RandomizedSearchCV(\n",
    "    estimator=rf,\n",
    "    param_distributions=param_dist,\n",
    "    n_iter=20,          \n",
    "    cv=3,               \n",
    "    scoring='r2',\n",
    "    random_state=42,\n",
    "    verbose=2,\n",
    "    n_jobs=-1\n",
    ")\n",
    "\n",
    "random_search.fit(X_train, y_train)\n",
    "\n",
    "best_rf = random_search.best_estimator_\n",
    "\n",
    "y_pred_rf = best_rf.predict(X_test)\n",
    "\n",
    "print(\"Random Forest (RandomizedSearchCV):\")\n",
    "print(\"Best Params:\", random_search.best_params_)\n",
    "print(\"R² Score:\", r2_score(y_test, y_pred_rf))\n",
    "print(\"RMSE:\", mean_squared_error(y_test, y_pred_rf, squared=False))\n",
    "print(\"MAE:\", mean_absolute_error(y_test, y_pred_rf))\n"
   ]
  }
 ],
 "metadata": {
  "kernelspec": {
   "display_name": "Python 3 (ipykernel)",
   "language": "python",
   "name": "python3"
  },
  "language_info": {
   "codemirror_mode": {
    "name": "ipython",
    "version": 3
   },
   "file_extension": ".py",
   "mimetype": "text/x-python",
   "name": "python",
   "nbconvert_exporter": "python",
   "pygments_lexer": "ipython3",
   "version": "3.12.7"
  }
 },
 "nbformat": 4,
 "nbformat_minor": 5
}
